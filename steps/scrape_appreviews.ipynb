{
 "cells": [
  {
   "cell_type": "code",
   "execution_count": 1,
   "metadata": {},
   "outputs": [],
   "source": [
    "import time\n",
    "from selenium import webdriver\n",
    "from selenium.webdriver.common.keys import Keys\n",
    "from selenium.webdriver.common.by import By\n",
    "from webdriver_manager.chrome import ChromeDriverManager\n",
    "from selenium.webdriver.support.wait import WebDriverWait\n",
    "from selenium.webdriver.support import expected_conditions as EC\n",
    "from selenium.webdriver.common.action_chains import ActionChains\n",
    "from bs4 import BeautifulSoup\n",
    "import requests\n",
    "import time\n",
    "import pandas as pd"
   ]
  },
  {
   "cell_type": "code",
   "execution_count": 6,
   "metadata": {},
   "outputs": [],
   "source": [
    "def get_reviews (urls, pixel_down):\n",
    "  ratings = [pixel_down]\n",
    "  for rating in ratings:\n",
    "    reviews = []\n",
    "    for url in urls:\n",
    "      driver = webdriver.Chrome()\n",
    "      driver.get(url)\n",
    "      time.sleep(5)\n",
    "\n",
    "      # Click the all reviews button\n",
    "      WebDriverWait(driver, 20).until(EC.presence_of_element_located((By.CSS_SELECTOR, \"#yDmH0d > c-wiz.SSPGKf.Czez9d > div > div > div.tU8Y5c > div.wkMJlb.YWi3ub > div > div.qZmL0 > div:nth-child(1) > c-wiz:nth-child(4) > section > div > div.Jwxk6d > div:nth-child(5) > div > div > button\"))).click()\n",
    "\n",
    "      WebDriverWait(driver, 20).until(EC.presence_of_element_located((By.CSS_SELECTOR, \"#sortBy_1\")))\n",
    "\n",
    "      # Click the dropdown button\n",
    "      actions = ActionChains(driver)\n",
    "      element_to_move_to = driver.find_element(By.CSS_SELECTOR, \"#sortBy_1\")\n",
    "\n",
    "      actions.move_to_element(element_to_move_to).move_by_offset(100, 0) .click().perform()\n",
    "      time.sleep(1)\n",
    "\n",
    "      actions.move_by_offset(0, rating).click().perform()\n",
    "      time.sleep(1)\n",
    "\n",
    "      # Move to element\n",
    "      # Locate the element you want to move to\n",
    "      element_to_move_to = driver.find_element(By.CSS_SELECTOR, \"#sortBy_1 > div.kW9Bj > span.ypTNYd\")\n",
    "\n",
    "      # Create an ActionChains object\n",
    "      actions = ActionChains(driver)\n",
    "\n",
    "      # Move to the specified element\n",
    "      actions.move_to_element(element_to_move_to).perform()\n",
    "\n",
    "      # Simulate scrolling down 50 times using the Page Down key\n",
    "      for _ in range(20):\n",
    "          actions.send_keys(Keys.PAGE_DOWN).perform()\n",
    "      \n",
    "      soup = BeautifulSoup(driver.page_source, 'html.parser')\n",
    "\n",
    "      # Find all anchor tags with the specified class\n",
    "      containers = soup.find_all('div', class_=lambda x: x and x.startswith('h3YV2d'))\n",
    "\n",
    "      # Iterate over the ResultSet and print the text content of each anchor tag\n",
    "      for container in containers:\n",
    "          text_content = container.text\n",
    "          reviews.append(text_content)\n",
    "\n",
    "    df = pd.DataFrame(reviews)\n",
    "  return df\n"
   ]
  },
  {
   "cell_type": "code",
   "execution_count": 7,
   "metadata": {},
   "outputs": [],
   "source": [
    "# Ride hailing\n",
    "url = [\"https://play.google.com/store/apps/details?id=com.gojek.app&hl=id&gl=US\",\"https://play.google.com/store/apps/details?id=com.grabtaxi.passenger&hl=id&gl=US\",\"https://play.google.com/store/apps/details?id=sinet.startup.inDriver&hl=id&gl=US\",\"https://play.google.com/store/apps/details?id=com.taxsee.taxsee&hl=id&gl=US\"]\n",
    "\n",
    "# Ride sharing\n",
    "#url = [\"https://play.google.com/store/apps/details?id=com.jaklingkoindonesia.app&hl=id&gl=US\"]\n",
    "\n",
    "one_star_df = get_reviews(url, 100)"
   ]
  },
  {
   "cell_type": "code",
   "execution_count": 6,
   "metadata": {},
   "outputs": [],
   "source": [
    "five_star_df = get_reviews(url, 260)"
   ]
  },
  {
   "cell_type": "code",
   "execution_count": 8,
   "metadata": {},
   "outputs": [
    {
     "data": {
      "text/html": [
       "<div>\n",
       "<style scoped>\n",
       "    .dataframe tbody tr th:only-of-type {\n",
       "        vertical-align: middle;\n",
       "    }\n",
       "\n",
       "    .dataframe tbody tr th {\n",
       "        vertical-align: top;\n",
       "    }\n",
       "\n",
       "    .dataframe thead th {\n",
       "        text-align: right;\n",
       "    }\n",
       "</style>\n",
       "<table border=\"1\" class=\"dataframe\">\n",
       "  <thead>\n",
       "    <tr style=\"text-align: right;\">\n",
       "      <th></th>\n",
       "      <th>0</th>\n",
       "    </tr>\n",
       "  </thead>\n",
       "  <tbody>\n",
       "    <tr>\n",
       "      <th>0</th>\n",
       "      <td>Aplikasi sering nge-hang. Tiba² \"tutup aplikas...</td>\n",
       "    </tr>\n",
       "    <tr>\n",
       "      <th>1</th>\n",
       "      <td>Layanan food tidak memberi info map driver di ...</td>\n",
       "    </tr>\n",
       "    <tr>\n",
       "      <th>2</th>\n",
       "      <td>Aplikasinya akhir-akhir ini bermasalah. (1) lo...</td>\n",
       "    </tr>\n",
       "    <tr>\n",
       "      <th>3</th>\n",
       "      <td>Aplikasi sering nge-hang. Tiba² \"tutup aplikas...</td>\n",
       "    </tr>\n",
       "    <tr>\n",
       "      <th>4</th>\n",
       "      <td>Layanan food tidak memberi info map driver di ...</td>\n",
       "    </tr>\n",
       "    <tr>\n",
       "      <th>...</th>\n",
       "      <td>...</td>\n",
       "    </tr>\n",
       "    <tr>\n",
       "      <th>167</th>\n",
       "      <td>Jelek .. nggak bisa automatis pas titik lokasi...</td>\n",
       "    </tr>\n",
       "    <tr>\n",
       "      <th>168</th>\n",
       "      <td>Apa apaan ini, kecewa banget saya sama driver ...</td>\n",
       "    </tr>\n",
       "    <tr>\n",
       "      <th>169</th>\n",
       "      <td>jelek pisan,saya baru download dan langsung pe...</td>\n",
       "    </tr>\n",
       "    <tr>\n",
       "      <th>170</th>\n",
       "      <td>apa apaan delivery food pesan 2 menu katanya h...</td>\n",
       "    </tr>\n",
       "    <tr>\n",
       "      <th>171</th>\n",
       "      <td>Nama alamat sudah benar. Titik alamat yg beda....</td>\n",
       "    </tr>\n",
       "  </tbody>\n",
       "</table>\n",
       "<p>172 rows × 1 columns</p>\n",
       "</div>"
      ],
      "text/plain": [
       "                                                     0\n",
       "0    Aplikasi sering nge-hang. Tiba² \"tutup aplikas...\n",
       "1    Layanan food tidak memberi info map driver di ...\n",
       "2    Aplikasinya akhir-akhir ini bermasalah. (1) lo...\n",
       "3    Aplikasi sering nge-hang. Tiba² \"tutup aplikas...\n",
       "4    Layanan food tidak memberi info map driver di ...\n",
       "..                                                 ...\n",
       "167  Jelek .. nggak bisa automatis pas titik lokasi...\n",
       "168  Apa apaan ini, kecewa banget saya sama driver ...\n",
       "169  jelek pisan,saya baru download dan langsung pe...\n",
       "170  apa apaan delivery food pesan 2 menu katanya h...\n",
       "171  Nama alamat sudah benar. Titik alamat yg beda....\n",
       "\n",
       "[172 rows x 1 columns]"
      ]
     },
     "execution_count": 8,
     "metadata": {},
     "output_type": "execute_result"
    }
   ],
   "source": [
    "one_star_df"
   ]
  },
  {
   "cell_type": "code",
   "execution_count": 8,
   "metadata": {},
   "outputs": [],
   "source": [
    "one_star_df.rename(columns={'1 Star Review':'1 Star Reviews'}, inplace=True)"
   ]
  },
  {
   "cell_type": "code",
   "execution_count": 9,
   "metadata": {},
   "outputs": [],
   "source": [
    "five_star_df.rename(columns={'5 Star Review':'5 Star Reviews'}, inplace=True)"
   ]
  },
  {
   "cell_type": "code",
   "execution_count": 10,
   "metadata": {},
   "outputs": [],
   "source": [
    "one_star_df.to_csv('integrated_mobility_one_star_reviews.csv', index=False)\n",
    "five_star_df.to_csv('integrated_mobility_five_star_reviews.csv', index=False)"
   ]
  },
  {
   "cell_type": "code",
   "execution_count": null,
   "metadata": {},
   "outputs": [],
   "source": []
  }
 ],
 "metadata": {
  "kernelspec": {
   "display_name": "Python 3",
   "language": "python",
   "name": "python3"
  },
  "language_info": {
   "codemirror_mode": {
    "name": "ipython",
    "version": 3
   },
   "file_extension": ".py",
   "mimetype": "text/x-python",
   "name": "python",
   "nbconvert_exporter": "python",
   "pygments_lexer": "ipython3",
   "version": "3.9.18"
  }
 },
 "nbformat": 4,
 "nbformat_minor": 2
}
