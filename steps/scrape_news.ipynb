{
 "cells": [
  {
   "cell_type": "markdown",
   "metadata": {},
   "source": [
    "## Web Scraping"
   ]
  },
  {
   "cell_type": "code",
   "execution_count": 18,
   "metadata": {},
   "outputs": [],
   "source": [
    "import requests\n",
    "from bs4 import BeautifulSoup\n",
    "from datetime import datetime\n",
    "import numpy as np\n",
    "import pandas as pd\n",
    "from easynmt import EasyNMT"
   ]
  },
  {
   "cell_type": "code",
   "execution_count": 34,
   "metadata": {},
   "outputs": [
    {
     "name": "stdout",
     "output_type": "stream",
     "text": [
      "Kemenko Marves dorong percepatan peralihan kendaraan listrik\n",
      "Mengulas Langkah Indonesia Jadi Produsen Baterai dan Kendaraan Listrik\n",
      "RI Percepat Pengembangan Ekosistem Kendaraan Listrik, Begini Caranya\n",
      "Pemkot Surabaya Godok Tarif Angkutan Umum Listrik - harian.disway.id\n",
      "Isuzu Masih Belum Yakin Bawa Truk Listrik ke Indonesia\n",
      "Pembiayaan kendaraan listrik bisa capai Rp170 miliar pada 2023\n",
      "Presiden Syaratkan IKN 100 Persen Pakai Kendaraan Listrik, PLN: Kami Siapkan Infrastrur | Republika Online\n",
      "IKN Pakai 100 Persen Kendaraan Listrik, 19 SPBU Listrik Sudah Terpasang pada 2024\n",
      "PLN Kembangkan Layanan One Stop Solution EVDS untuk Mudahkan Pengguna Kendaraan Listrik\n",
      "Imam Budi Hartono Ajak Pejabat Pemkot Depok dan Masyarakat Gunakan Kendaraan Listrik\n",
      "Pembiayaan Kendaraan Listrik pada 2023 Diprediksi Tembus Rp 170 Miliar\n",
      "Adira Finance Sambut Baik Peningkatan Subsidi Kendaraan Listrik, Begini Catatannya\n",
      "Pembiayaan Kendaraan Listrik Diprediksi Mencapai Rp 170 Miliar di 2023\n",
      "Sokonindo Automobile Dorong DFSK E Sebagai Kendaraan Niaga Elektrik\n",
      "DFSK Gelora E Diharapkan Jadi Solusi Bisnis di Era Kendaraan Listrik\n",
      "Segmen Kendaraan Niaga Ringan Masih Sepi Mobil Listrik\n",
      "Presiden Syaratkan di IKN 100 Persen Pakai Kendaraan Listrik ...\n",
      "Jokowi Ingin Semua Warga IKN Pakai Kendaraan Listrik, Berikut Rencana PLN untuk Tahun Depan\n",
      "Dorong Penggunaan Kendaraan Listrik, Pemprov Andalkan Insentif ...\n",
      "Luhut: Tanpa Indonesia, Amerika Tak Bisa Penuhi Kebutuhan Mobil Listrik\n",
      "Kemenperin Perkenalkan Kendaraan Listrik Rancangan IKM\n",
      "Era Kendaraan Listrik di NTB telah Dimulai, Berikut daftar SPKLU di ...\n",
      "Diresmikan SPKLU untuk Kendaraan Listrik di GDC Depok - Ruzka\n",
      "LG rilis pengisi daya kendaraan listrik di pasar AS pada 2024\n",
      "Permintaan EV Kia-Hyundai di AS tetap kuat meski dibayangi inflasi\n",
      "Kemenhub Sosialisasikan Kendaraan Listrik Berbasis Baterai yang ...\n",
      "Wuling BinggoEV: Kendaraan Listrik Hatchback yang Modern dan ...\n",
      "AUTO Bakal Fokus Penuhi Komponen Kendaraan Listrik - Kompas.com\n",
      "Apakah Daya Baterai Kendaraan Listrik Bisa Tekor Saat Parkir Lama?\n",
      "Jokowi dan Biden Bahas Ekspor Nikel Baterai Kendaraan Listrik AS\n",
      "PLN Bakal Tambah 24 Stasiun Pengisian Kendaraan Listrik di IKN\n",
      "Kendaraan Listrik Tetap Keluarkan Emisi, Kok Bisa?\n",
      "Peringatan WSD 2023: BSN Dukung kendaraan Listrik melalui ...\n",
      "Manufaktur Indonesia Dilirik Sektor Kendaraan Listrik Australia\n",
      "Kadin yakin ekosistem kendaraan listrik berkembang di Jawa Barat\n",
      "Negara Ini Jadi Saingan Terbesar Indonesia di Pasar Kendaraan Listrik\n",
      "90 Persen Kendaraan Produk Jepang, RI Ajak Jepang Percepat ...\n",
      "Saat Jokowi Pamer IKN ke Mahasiswa AS: Kota Hijau, Serba Kendaraan Listrik\n",
      "Pemerintah Ajak Perkuat Industri Otomotif Indonesia lewat ...\n",
      "Pulau Penyengat Terima Bantuan 11 Kendaraan Listrik - Kompas.com\n",
      "Hasil Survei Kecemasan Warga Indonesia Soal Kendaraan Listrik\n",
      "Indonesia-Australia Kerja Sama Kembangkan Kendaraan Listrik\n",
      "Kendaraan listrik generasi mendatang jadi sorotan di JMS 2023\n",
      "Kendaraan Listrik yang Bisa Mengecil\n",
      "Era Kendaraan Listrik, Pembiayaan Mobil Makin Nyetrum?\n",
      "Mengapa Banyak Asuransi Kendaraan Listrik Masih Pakai Skema Konvensional? - Kompas.com\n",
      "Pertamina Gandeng VKTR Percepat Transisi Kendaraan Listrik di Indonesia\n",
      "China Jadi Pasar Kendaraan Listrik Terbesar di Dunia - Kompas.com\n",
      "PLN Targetkan 100 Persen Gunakan Kendaraan Listrik untuk Oprasional di 2024 - Kompas.com\n",
      "DISBUD Badung Bakal Gunakan 210 Unit Motor Listrik Ini!\n",
      "Menggandeng Perusahaan Korsel, PLN Icon Plus Kembangkan Ekosistem Kendaraan Listrik di Indonesia\n",
      "Jokowi Dorong ASEAN Sepakat Jadi Global Hub Industri Kendaraan Listrik\n",
      "Pemerintah Tetapkan Tarif Pengisian Daya Mobil Listrik Rp 2.466 per kWh, Berikut Perhitungannya - Kompas.com\n",
      "Permintaan Kendaraan Listrik Kurang, Produsen Mau Kurangi ...\n",
      "Esemka Bakal Mejeng di Pameran Kendaraan Listrik PEVS 2024?\n",
      "Rencana untuk Fasilitas Pengisian Baterai Kendaraan Listrik di Asia ...\n",
      "Penelitian: Harga Mahal Jadi Alasan Konsumen Ogah Beralih ke Kendaraan Listrik\n",
      "Hyundai, Kia kenalkan EV baru dan model konsep di Pameran Los Angeles\n",
      "Chery Tidak Fokus pada Kendaraan Listrik di Indonesia, Kenapa?\n",
      "Ramaikan Pasar Kendaraan Listrik, MG Rakit Molis Lokal di Cikarang\n",
      "Hyundai Mulai Bangun Pabrik Baru Kendaraan Listrik, Bakal Beroperasi pada 2026\n",
      "Manfaatkan Limbah Cangkang, Mahasiswa UB Ciptakan Baterai Kendaraan Listrik\n",
      "Tekan Polusi, AstraZeneca Operasikan 500 Kendaraan Listrik di Indonesia\n",
      "Produsen otomotif Jepang percepat transisi ke kendaraan listrik\n",
      "Pentingnya Fasilitas Uji Baterai Kendaraan Listrik di Indonesia\n",
      "Mobil Listrik BYD Kepergok Wara-wiri di Jakarta, Kode Mau Dijual Nih?\n",
      "Mendag Ajak 2 Produsen Asal China Bikin Kendaraan Listrik di Indonesia\n",
      "Kendaraan Listrik Diprediksi Jadi Ladang Bisnis Baru Paling Besar di 2030 - Kompas.com\n",
      "Penjualan Kendaraan Listrik Toyota Capai 25.000 Unit di Tahun ini\n",
      "Apa Jadinya kalau Mobil Listrik Pakai Ban Kendaraan Konvensional?\n",
      "Mulai Diminati, ABeam Consulting Terbitkan Laporan Penggunaan Kendaraan Listrik di Indonesia - Jawa Pos\n",
      "Dukung Percepatan Penggunaan Kendaraan Listrik, BSN terus ...\n",
      "Pemerintah Tegaskan Komitmen Pengembangan Ekosistem ...\n",
      "Indonesia.go.id - Peluang dan Tantangan Ekosistem Kendaraan ...\n",
      "Mobil Listrik Tak Laku, Ternyata Orang RI Maunya Ini\n",
      "Lebih Hemat Pakai Kendaraan Listrik, Masyarakat Nikmati Beragam ...\n",
      "Kemenperin: Dorong Akselerasi Ekosistem KBLBB, Bantuan ...\n",
      "Manfaat Mobil Listrik bagi Hidup Anda\n",
      "Pembiayaan Kendaraan Listrik BSI 'Ngegas', Terdorong Insentif Regulator\n",
      "Moeldoko: Terbuka Peluang Investasi Kendaraan Listrik di Indonesia\n",
      "Dukung Ketahanan Energi Kawasan ASEAN, Indonesia Dorong ...\n",
      "Kemenperin: Insentif Kendaraan Listrik dan Kebijakan Lainnya ...\n",
      "Eropa Selidiki EV China, Mobil Listrik RI Bisa Kena Juga?\n",
      "Turunkan Polusi Udara di Jakarta, Menhub Ajak Masyarakat Beralih ...\n",
      "Pemerintah Harus Konsisten Kembangkan Kendaraan Listrik\n",
      "Jokowi Ungkap Strategi RI Masuk Rantai Pasok Kendaraan Listrik Global\n",
      "Sekretariat Kabinet Republik Indonesia | Pemerintah Dorong ...\n",
      "Gaikindo Akui Mobil Listrik Belum Jadi Kendaraan Utama di Indonesia\n",
      "Soal Kendaraan Listrik, Kritikan JK Tak Terbantahkan!\n",
      "Kota Bandung Menuju Green Life Style dengan Kendaraan Listrik\n",
      "KTT ke-26 ASEAN Plus Three (APT) Sepakati Kerja Sama ...\n",
      "Anak Buah Luhut Beber Kendala RI Kembangkan Industri Kendaraan Listrik\n",
      "Industri Kendaraan Listrik, Momentum Strategis\n",
      "Indonesia.go.id - Mempermudah Izin Usaha Pengisian Daya ...\n",
      "Perizinan Berusaha Kegiatan Stasiun Pengisian Kendaraan Listrik ...\n",
      "Ambisi ASEAN Jadi Pusat Produksi Kendaraan Listrik Butuh ”Gula ...\n",
      "Asosiasi Blak-blakan Ungkap Tantangan Pembiayaan Kendaraan Listrik\n",
      "Penyaluran Kredit Kendaraan Listrik BRI Finance Melesat Tahun Ini\n",
      "Indonesia.go.id - Kurangi Polusi Udara, Saatnya Beralih ke ...\n",
      "Adira Finance Salurkan Pembiayaan Kendaraan Listrik Rp67,7 Miliar\n",
      "Kementerian Komunikasi dan Informatika\n",
      "OJK Yakin Penyaluran Pembiayaan Kredit Kendaraan Listrik Meningkat\n",
      "Riset Deloitte dan Foundry: Penggunaan Motor Listrik di Indonesia ...\n",
      "Tidak Hanya Eselon 4, Sekda DKI Imbau Seluruh ASN Pakai Kendaraan Listrik\n",
      "Indonesia Nyatakan Kesiapan Pasok Kebutuhan Baterai Kendaraan ...\n",
      "Jokowi Sebut RI Bakal Produksi Mobil Listrik Tahun Depan, Targetkan 600 Ribu Unit pada 2030\n",
      "Luhut: AS Paham Tanpa RI Tak Dapat Penuhi Target Mobil Listrik\n",
      "Luhut: Tanpa Indonesia, Amerika Tak Bisa Penuhi Kebutuhan Mobil Listrik\n",
      "Mobil Listrik Jadi Satu-satunya Titik Terang dalam Upaya Global Mencapai Net Zero\n",
      "Berkelas dan Ikonik, Ini Arti Nama Mobil Listrik Wuling BinguoEV\n",
      "Wuling Pre-Launch Mobil Listrik Binguo EV, Berapa Harganya?\n",
      "Arti Nama Binguo, Mobil Listrik Terbaru Wuling Bergaya Hatchback\n",
      "Video: Pabrikan Mobil Listrik China Ancam Dominasi Volkswagen\n",
      "Tanpa Mineral Kritis Indonesia, Luhut Sebut Amerika Sulit Produksi Mobil Listrik\n",
      "Pembiayaan mobil listrik capai Rp100 miliar, Adira target akhir tahun tembus segini - Hops ID\n",
      "Xiaomi Siap Luncurkan Mobil Listrik, Ini Penampakannya | Republika Online\n",
      "Bocor Spesifikasi Mobil Listrik Pertama Xiaomi SU7\n",
      "Xiaomi Akan Luncurkan Mobil Listrik Pertamanya Awal 2024\n",
      "BMW: Harga Ganti Baterai Mobil Listrik Belum Tentu Mahal - kumparan.com\n",
      "Adira Prediksi Pembiayaan Kendaraan Listrik Tembus Rp 170 Miliar\n",
      "Perkenalkan Bharata, mobil listrik karya mahasiswa di Jember - ANTARA News Jawa Timur\n",
      "VW Indonesia Jajaki Bawa Mobil Listrik\n",
      "Pabrik MG di Cikarang Siap Ekspor Mobil Listrik ke Australia Tahun Depan\n",
      "Bocoran Harga Mobil Listrik MG ZS EV\n",
      "Mobil Listrik Bertenaga Buas MG Cyberster Resmi Meluncur, Langsung Dipesan 1.000 Unit\n",
      "Optimisme Wuling Motors Pasca Luncurkan Mobil Listrik Berharga di Bawah Rp 500 Juta\n",
      "Mobil Listrik dan Hybrid Daihatsu Buatan Indonesia Siap Mengaspal 2024\n",
      "Renault Siapkan Mobil Listrik Murah, Harganya Menarik Banget!\n",
      "RI Mulai Produksi Mobil Listrik Tahun Depan, Target 600.000 Unit di 2030\n",
      "Lagi Cari-Cari Mobil Listrik Baru? Datang ke Pameran Ini\n",
      "Mobil Listrik Pertama Rolls-Royce Meluncur di Indonesia\n",
      "Kunci Tekan Harga Mobil Listrik\n",
      "Pemerintah Tetapkan Tarif Pengisian Daya Mobil Listrik Rp 2.466 per kWh, Berikut Perhitungannya - Kompas.com\n",
      "Demi Gaya Mobil Listrik Eropa Nyeleneh Tak Punya Kaca Belakang\n",
      "Deretan mobil listrik di bawah Rp500 juta yang bisa jadi pilihan\n",
      "Pajak Mobil Listrik Terbaru 2024, Ini Aturan dan Tarifnya!\n",
      "Daftar Harga Mobil Listrik November 2023, Mulai Rp189 Jutaan!\n",
      "Mobil Listrik BYD Kepergok Wara-wiri di Jakarta, Kode Mau Dijual Nih?\n",
      "Yakin Mobil Listrik Jadi Solusi Tekan Emisi, Hidrogen Bagaimana?\n",
      "Kisaran Harga Mobil Listrik Kedua Wuling di Indonesia\n",
      "Hyundai Investasi Rp23,54 Triliun, Target Lego Mobil Listrik 3,64 Juta Unit pada 2030\n",
      "Mobil Listrik Mitsubishi Mulai Diproduksi di Indonesia Akhir 2023\n",
      "Apa Jadinya kalau Mobil Listrik Pakai Ban Kendaraan Konvensional?\n",
      "Tren Elektrifikasi, Ini Deretan Mobil Listrik Toyota Sesuai Jenis dan Kebutuhan Pengguna - Kompas.com\n",
      "Solo Punya Mobil Listrik untuk Wisatawan\n",
      "Ketika Juragan Minyak Arab Saudi Mulai Main Mobil Listrik\n",
      "Produksi Lokal Mobil Listrik Mercedes-Benz Seri EQ, Sebatas Gimik?\n",
      "Toyota Sebut Banyak Mobil Listrik Bukan Digunakan Sebagai ...\n",
      "Mobil Listrik Neta V Belum Memenuhi Syarat Penerima Subsidi\n",
      "Jokowi: SMK Harus Siap Oprek Mobil Listrik!\n",
      "Kemenperin Luruskan Penyebab Emisi Karbon Mobil Listrik Lebih Tinggi\n",
      "Mobil Listrik Harga Murah Buat Angkut-angkut, Rp 350 Juta Bawa Pulang DFSK Gelora E\n",
      "Pembiayaan Kendaraan Listrik pada 2023 Diprediksi Tembus Rp 170 Miliar\n",
      "Ada Produk Baru, Hyundai Bisa Cetak 50 Ribu Mobil Listrik di RI 2024\n",
      "Awas Mobil Listrik Terancam, Tahun Depan Suram!\n",
      "Segini Jumlah Pesanan Mobil Listrik Termurah di Indonesia\n",
      "Honda Akui Teknologi Mobil Listrik China Sudah Sangat Maju\n",
      "Diskon Mobil Listrik November 2023, Ioniq 5 Tembus 80 Juta ...\n",
      "Tim Yacaranda UGM Juara Umum Kompetisi Mobil Listrik Indonesia\n",
      "Daftar Mobil Listrik Murah di Indonesia, Harga Mulai Rp 190 Jutaan\n",
      "Laba Emiten Komponen Otomotif Ini Melesat 107%, Pabrik Mobil Listrik Bawa Berkah\n",
      "Siapkan Rp 18 T, Raksasa Produsen Mobil Listrik Vietnam Mau Masuk RI\n",
      "Mobil Listrik Cina Paling Digemari Anak Muda, Simak Review-nya - Realitas Online\n",
      "Setelah Sepeda Motor, Polytron Akan Bikin Mobil Listrik - Kompas.com\n",
      "Ini Alasan Utama Orang Kaya Beli Mobil Listrik\n",
      "Starup Jepang Hadirkan Mobil Listrik Unik Satu Tempat Duduk, Dibanderol Rp100 Juta\n",
      "Tokopedia Dukung Penggunaan Mobil Listrik Guna Kurangi Polusi ...\n",
      "Lihat dari Dekat Wuling BinguoEV, Mobil Listrik Classy yang Modern\n",
      "Toyota Riset Produksi Baterai Mobil Listrik di Indonesia\n",
      "Ferrari Ungkap Kabar Terbaru Pengembangan Mobil Listrik Miliknya\n",
      "Bridgestone Ecopia EP300 Enliten Bisa untuk Mobil Listrik? - kumparan.com\n",
      "Subsidi Konversi Motor Listrik Rp10 Juta, Ini Strategi Adira Finance (ADMF)\n",
      "Kapan Mobil Listrik BMW Dirakit Lokal?\n",
      "Mobil Listrik Honda Bakal Pakai Baterai Seperti PCX Electric\n",
      "Wuling: 12 Ribu Unit Air ev Mengaspal di RI, Emisi Karbon Berkurang 81 Juta Ton\n",
      "Toyota Adopsi Teknologi Charger Mobil Listrik Tesla Mulai 2025\n",
      "Pemilik Mobil Listrik Harus Lebih Hati-hati Ketika Musim Hujan\n",
      "Tren Modifikasi Audio Mobil Listrik Mulai Menjamur\n",
      "Luhut: Tanpa Indonesia, AS Tak Bisa Penuhi Kebutuhan Mobil Listrik\n",
      "Cadillac Tambah Portofolio Mobil Listrik, 'Optiq' SUV yang Punya Tampang Elegan\n",
      "China Pantau Ekspor Tanah Jarang, Industri Rudal-Mobil Listrik AS Bisa Terdampak\n",
      "5 Mobil Listrik Terlaris September 2023, Begini Spesifikasi dan Harganya\n",
      "9 Tahun Jokowi: Kemunculan Mobil Listrik di Indonesia\n",
      "Eropa Selidiki EV China, Mobil Listrik RI Bisa Kena Juga?\n",
      "Deretan Mobil Listrik Terbaik dan Populer 2023, Jangan Salah Pilih\n",
      "Mobil Listrik Tak Laku, Ternyata Orang RI Maunya Ini\n",
      "Toyota Anggap Tak Semua Konsumen Indonesia Mau Beli Mobil Listrik\n",
      "Penjualan Mobil Listrik di Indonesia Meningkat pada Agustus 2023\n",
      "Mobil Listrik China Rp 85 Juta Meluncur di RI, Ini Tampangnya\n",
      "Media Asing Sorot Ambisi Mobil Listrik Jokowi, Kenapa?\n",
      "Apa yang Membuat Konsumen Indonesia Mau Beli Mobil Listrik? Ini ...\n",
      "Mobil Listrik Belum Bisa Kalahkan Mobil Bensin, Ini Sebabnya\n",
      "Manfaat Mobil Listrik bagi Hidup Anda\n",
      "Mobil Listrik China Mulai Resahkan OPEC dan Industri Otomotif ...\n",
      "Ragam Program MTF Dorong Percepatan Mobil Listrik\n",
      "Mobil Listrik Paling Laris di RI Ternyata Model Merek Ini!\n",
      "INFOGRAFIS: Mobil Listrik di Bawah Rp500 Juta\n",
      "Hyundai Klaim Paling Serius Soal Mobil Listrik di Indonesia\n",
      "Aturan Komponen Lokal Mobil Listrik Dilonggarkan, Ada Apa?\n",
      "Persaingan Sengit Mobil Listrik\n",
      "Bertaburan Mobil Listrik di PEVS 2023, Mulai Rp85 Juta Hingga Miliaran\n",
      "Gaikindo Akui Mobil Listrik Belum Jadi Kendaraan Utama di Indonesia\n",
      "Pertolongan Pertama Derek Mobil Listrik Mogok\n",
      "Pak Jokowi, Tak Cuma Subsidi, Mobil Listrik Butuh 4 Jurus Ini\n",
      "Luhut Mau Bikin Mobil Listrik Made in RI Bareng China\n",
      "Mau Beli Mobil Listrik Terbaru? Intip Dulu Bocoran Harganya\n",
      "Program Mobil Listrik Amerika Terancam Mati DIni Karena Ini\n",
      "Terungkap! Harga yang Mahal Bikin Mobil Listrik Kurang Laku di RI\n",
      "RI Tak Punya UU Mobil Listrik, ESDM Ungkap Alasannya\n",
      "INFOGRAFIS: 10 Mobil Listrik Populer Januari - Juli 2023\n",
      "Anies Kritik Subsidi Mobil Listrik, Harganya Mahal Gegara Ini\n"
     ]
    }
   ],
   "source": [
    "urls = [\"https://news.google.com/search?q=kendaraan%20listrik&hl=en-ID&gl=ID&ceid=ID%3Aen\",\"https://news.google.com/search?q=mobil%20listrik&hl=en-ID&gl=ID&ceid=ID%3Aen\"]\n",
    "\n",
    "titles = []\n",
    "\n",
    "for i in urls:\n",
    "    soup = BeautifulSoup(requests.get(i).text, 'html.parser')\n",
    "\n",
    "    # Find all anchor tags with the specified class\n",
    "    containers = soup.find_all('a', class_=lambda x: x and x.startswith('DY5T1d RZIKme'))\n",
    "\n",
    "    # Iterate over the ResultSet and print the text content of each anchor tag\n",
    "    for container in containers:\n",
    "        text_content = container.text\n",
    "        titles.append(text_content)\n",
    "        print(text_content)"
   ]
  },
  {
   "cell_type": "code",
   "execution_count": 38,
   "metadata": {},
   "outputs": [
    {
     "data": {
      "text/plain": [
       "211"
      ]
     },
     "execution_count": 38,
     "metadata": {},
     "output_type": "execute_result"
    }
   ],
   "source": [
    "len(titles)"
   ]
  },
  {
   "cell_type": "code",
   "execution_count": 40,
   "metadata": {},
   "outputs": [],
   "source": [
    "# Make a dataframe based on the container\n",
    "df = pd.DataFrame(titles)\n",
    "\n",
    "# Rename the first column to title\n",
    "df.rename(columns={0:'title'}, inplace=True)"
   ]
  },
  {
   "cell_type": "code",
   "execution_count": 41,
   "metadata": {},
   "outputs": [
    {
     "name": "stdout",
     "output_type": "stream",
     "text": [
      "                                                 title\n",
      "0    Kemenko Marves dorong percepatan peralihan ken...\n",
      "1    Mengulas Langkah Indonesia Jadi Produsen Bater...\n",
      "2    RI Percepat Pengembangan Ekosistem Kendaraan L...\n",
      "3    Pemkot Surabaya Godok Tarif Angkutan Umum List...\n",
      "4    Isuzu Masih Belum Yakin Bawa Truk Listrik ke I...\n",
      "..                                                 ...\n",
      "206  Program Mobil Listrik Amerika Terancam Mati DI...\n",
      "207  Terungkap! Harga yang Mahal Bikin Mobil Listri...\n",
      "208  RI Tak Punya UU Mobil Listrik, ESDM Ungkap Ala...\n",
      "209  INFOGRAFIS: 10 Mobil Listrik Populer Januari -...\n",
      "210  Anies Kritik Subsidi Mobil Listrik, Harganya M...\n",
      "\n",
      "[211 rows x 1 columns]\n"
     ]
    }
   ],
   "source": [
    "print(df)"
   ]
  },
  {
   "cell_type": "markdown",
   "metadata": {},
   "source": [
    "## Machine Translation"
   ]
  },
  {
   "cell_type": "code",
   "execution_count": 19,
   "metadata": {},
   "outputs": [
    {
     "name": "stderr",
     "output_type": "stream",
     "text": [
      "1.47kB [00:00, 1.47MB/s]                 \n",
      "e:\\VM\\miniconda3\\envs\\nlp\\lib\\site-packages\\tqdm\\auto.py:21: TqdmWarning: IProgress not found. Please update jupyter and ipywidgets. See https://ipywidgets.readthedocs.io/en/stable/user_install.html\n",
      "  from .autonotebook import tqdm as notebook_tqdm\n",
      "config.json: 100%|██████████| 1.51k/1.51k [00:00<00:00, 756kB/s]\n",
      "e:\\VM\\miniconda3\\envs\\nlp\\lib\\site-packages\\huggingface_hub\\file_download.py:147: UserWarning: `huggingface_hub` cache-system uses symlinks by default to efficiently store duplicated files but your machine does not support them in C:\\Users\\mryan\\.cache\\huggingface\\hub. Caching files will still work but in a degraded version that might require more space on your disk. This warning can be disabled by setting the `HF_HUB_DISABLE_SYMLINKS_WARNING` environment variable. For more details, see https://huggingface.co/docs/huggingface_hub/how-to-cache#limitations.\n",
      "To support symlinks on Windows, you either need to activate Developer Mode or to run Python as an administrator. In order to see activate developer mode, see this article: https://docs.microsoft.com/en-us/windows/apps/get-started/enable-your-device-for-development\n",
      "  warnings.warn(message)\n",
      "pytorch_model.bin: 100%|██████████| 2.44G/2.44G [15:51<00:00, 2.57MB/s]\n",
      "generation_config.json: 100%|██████████| 268/268 [00:00<00:00, 268kB/s]\n",
      "tokenizer_config.json: 100%|██████████| 461/461 [00:00<00:00, 232kB/s]\n",
      "sentencepiece.bpe.model: 100%|██████████| 5.07M/5.07M [00:01<00:00, 2.97MB/s]\n",
      "special_tokens_map.json: 100%|██████████| 649/649 [00:00<00:00, 214kB/s]\n"
     ]
    }
   ],
   "source": [
    "#Load the model\n",
    "model = EasyNMT('mbart50_m2en')"
   ]
  },
  {
   "cell_type": "code",
   "execution_count": 42,
   "metadata": {},
   "outputs": [],
   "source": [
    "# Translate from indonesia to english by iterating the first column of the dataframe, make a new column for the translated text from indonesian to english\n",
    "df['translated'] = df['title'].apply(lambda x: model.translate(x, source_lang='id', target_lang='en'))"
   ]
  },
  {
   "cell_type": "code",
   "execution_count": 43,
   "metadata": {},
   "outputs": [
    {
     "data": {
      "text/html": [
       "<div>\n",
       "<style scoped>\n",
       "    .dataframe tbody tr th:only-of-type {\n",
       "        vertical-align: middle;\n",
       "    }\n",
       "\n",
       "    .dataframe tbody tr th {\n",
       "        vertical-align: top;\n",
       "    }\n",
       "\n",
       "    .dataframe thead th {\n",
       "        text-align: right;\n",
       "    }\n",
       "</style>\n",
       "<table border=\"1\" class=\"dataframe\">\n",
       "  <thead>\n",
       "    <tr style=\"text-align: right;\">\n",
       "      <th></th>\n",
       "      <th>title</th>\n",
       "      <th>translated</th>\n",
       "    </tr>\n",
       "  </thead>\n",
       "  <tbody>\n",
       "    <tr>\n",
       "      <th>0</th>\n",
       "      <td>Kemenko Marves dorong percepatan peralihan ken...</td>\n",
       "      <td>Kemenko Marves pushed the switch to electric v...</td>\n",
       "    </tr>\n",
       "    <tr>\n",
       "      <th>1</th>\n",
       "      <td>Mengulas Langkah Indonesia Jadi Produsen Bater...</td>\n",
       "      <td>Step by step, Indonesia became a battery and e...</td>\n",
       "    </tr>\n",
       "    <tr>\n",
       "      <th>2</th>\n",
       "      <td>RI Percepat Pengembangan Ekosistem Kendaraan L...</td>\n",
       "      <td>RI Speeds Up Development of a Power Stewardshi...</td>\n",
       "    </tr>\n",
       "    <tr>\n",
       "      <th>3</th>\n",
       "      <td>Pemkot Surabaya Godok Tarif Angkutan Umum List...</td>\n",
       "      <td>The shutdown of Surabaya's public transportati...</td>\n",
       "    </tr>\n",
       "    <tr>\n",
       "      <th>4</th>\n",
       "      <td>Isuzu Masih Belum Yakin Bawa Truk Listrik ke I...</td>\n",
       "      <td>Isuzu Still Hasn't Bought Electricity to Indon...</td>\n",
       "    </tr>\n",
       "    <tr>\n",
       "      <th>...</th>\n",
       "      <td>...</td>\n",
       "      <td>...</td>\n",
       "    </tr>\n",
       "    <tr>\n",
       "      <th>206</th>\n",
       "      <td>Program Mobil Listrik Amerika Terancam Mati DI...</td>\n",
       "      <td>America's electric car program is under threat...</td>\n",
       "    </tr>\n",
       "    <tr>\n",
       "      <th>207</th>\n",
       "      <td>Terungkap! Harga yang Mahal Bikin Mobil Listri...</td>\n",
       "      <td>Revealed! There's a huge under-priced, under-p...</td>\n",
       "    </tr>\n",
       "    <tr>\n",
       "      <th>208</th>\n",
       "      <td>RI Tak Punya UU Mobil Listrik, ESDM Ungkap Ala...</td>\n",
       "      <td>RI Won't Pass the Electric Car Law, ESDM Expla...</td>\n",
       "    </tr>\n",
       "    <tr>\n",
       "      <th>209</th>\n",
       "      <td>INFOGRAFIS: 10 Mobil Listrik Populer Januari -...</td>\n",
       "      <td>INFOGRAPHY: 10 Most Popular Electric Cars Janu...</td>\n",
       "    </tr>\n",
       "    <tr>\n",
       "      <th>210</th>\n",
       "      <td>Anies Kritik Subsidi Mobil Listrik, Harganya M...</td>\n",
       "      <td>Criticism of electric car subsidies, this pric...</td>\n",
       "    </tr>\n",
       "  </tbody>\n",
       "</table>\n",
       "<p>211 rows × 2 columns</p>\n",
       "</div>"
      ],
      "text/plain": [
       "                                                 title  \\\n",
       "0    Kemenko Marves dorong percepatan peralihan ken...   \n",
       "1    Mengulas Langkah Indonesia Jadi Produsen Bater...   \n",
       "2    RI Percepat Pengembangan Ekosistem Kendaraan L...   \n",
       "3    Pemkot Surabaya Godok Tarif Angkutan Umum List...   \n",
       "4    Isuzu Masih Belum Yakin Bawa Truk Listrik ke I...   \n",
       "..                                                 ...   \n",
       "206  Program Mobil Listrik Amerika Terancam Mati DI...   \n",
       "207  Terungkap! Harga yang Mahal Bikin Mobil Listri...   \n",
       "208  RI Tak Punya UU Mobil Listrik, ESDM Ungkap Ala...   \n",
       "209  INFOGRAFIS: 10 Mobil Listrik Populer Januari -...   \n",
       "210  Anies Kritik Subsidi Mobil Listrik, Harganya M...   \n",
       "\n",
       "                                            translated  \n",
       "0    Kemenko Marves pushed the switch to electric v...  \n",
       "1    Step by step, Indonesia became a battery and e...  \n",
       "2    RI Speeds Up Development of a Power Stewardshi...  \n",
       "3    The shutdown of Surabaya's public transportati...  \n",
       "4    Isuzu Still Hasn't Bought Electricity to Indon...  \n",
       "..                                                 ...  \n",
       "206  America's electric car program is under threat...  \n",
       "207  Revealed! There's a huge under-priced, under-p...  \n",
       "208  RI Won't Pass the Electric Car Law, ESDM Expla...  \n",
       "209  INFOGRAPHY: 10 Most Popular Electric Cars Janu...  \n",
       "210  Criticism of electric car subsidies, this pric...  \n",
       "\n",
       "[211 rows x 2 columns]"
      ]
     },
     "execution_count": 43,
     "metadata": {},
     "output_type": "execute_result"
    }
   ],
   "source": [
    "# Print the dataframe as a table\n",
    "df"
   ]
  },
  {
   "cell_type": "code",
   "execution_count": 45,
   "metadata": {},
   "outputs": [],
   "source": [
    "# Convert the dataframe to csv\n",
    "df.to_csv('translated.csv')"
   ]
  },
  {
   "cell_type": "markdown",
   "metadata": {},
   "source": [
    "## TOPIC MODELING"
   ]
  },
  {
   "cell_type": "code",
   "execution_count": 46,
   "metadata": {},
   "outputs": [],
   "source": [
    "from bertopic import BERTopic\n",
    "docs = list(df['translated'].values)\n",
    "topic_model = BERTopic()\n",
    "topics, probs = topic_model.fit_transform(docs)"
   ]
  },
  {
   "cell_type": "code",
   "execution_count": 47,
   "metadata": {},
   "outputs": [
    {
     "data": {
      "text/html": [
       "<div>\n",
       "<style scoped>\n",
       "    .dataframe tbody tr th:only-of-type {\n",
       "        vertical-align: middle;\n",
       "    }\n",
       "\n",
       "    .dataframe tbody tr th {\n",
       "        vertical-align: top;\n",
       "    }\n",
       "\n",
       "    .dataframe thead th {\n",
       "        text-align: right;\n",
       "    }\n",
       "</style>\n",
       "<table border=\"1\" class=\"dataframe\">\n",
       "  <thead>\n",
       "    <tr style=\"text-align: right;\">\n",
       "      <th></th>\n",
       "      <th>Count</th>\n",
       "      <th>Name</th>\n",
       "      <th>Representation</th>\n",
       "    </tr>\n",
       "    <tr>\n",
       "      <th>Topic</th>\n",
       "      <th></th>\n",
       "      <th></th>\n",
       "      <th></th>\n",
       "    </tr>\n",
       "  </thead>\n",
       "  <tbody>\n",
       "    <tr>\n",
       "      <th>-1</th>\n",
       "      <td>61</td>\n",
       "      <td>-1_the_to_electric_is</td>\n",
       "      <td>[the, to, electric, is, of, in, electricity, c...</td>\n",
       "    </tr>\n",
       "    <tr>\n",
       "      <th>0</th>\n",
       "      <td>72</td>\n",
       "      <td>0_electric_car_the_cars</td>\n",
       "      <td>[electric, car, the, cars, to, chinas, of, in,...</td>\n",
       "    </tr>\n",
       "    <tr>\n",
       "      <th>1</th>\n",
       "      <td>29</td>\n",
       "      <td>1_power_president_indonesia_of</td>\n",
       "      <td>[power, president, indonesia, of, joko, for, t...</td>\n",
       "    </tr>\n",
       "    <tr>\n",
       "      <th>2</th>\n",
       "      <td>29</td>\n",
       "      <td>2_indonesia_electric_in_cars</td>\n",
       "      <td>[indonesia, electric, in, cars, car, vehicle, ...</td>\n",
       "    </tr>\n",
       "    <tr>\n",
       "      <th>3</th>\n",
       "      <td>20</td>\n",
       "      <td>3_the_imam_founder_khomeini</td>\n",
       "      <td>[the, imam, founder, khomeini, foundation, of,...</td>\n",
       "    </tr>\n",
       "  </tbody>\n",
       "</table>\n",
       "</div>"
      ],
      "text/plain": [
       "       Count                            Name  \\\n",
       "Topic                                          \n",
       "-1        61           -1_the_to_electric_is   \n",
       " 0        72         0_electric_car_the_cars   \n",
       " 1        29  1_power_president_indonesia_of   \n",
       " 2        29    2_indonesia_electric_in_cars   \n",
       " 3        20     3_the_imam_founder_khomeini   \n",
       "\n",
       "                                          Representation  \n",
       "Topic                                                     \n",
       "-1     [the, to, electric, is, of, in, electricity, c...  \n",
       " 0     [electric, car, the, cars, to, chinas, of, in,...  \n",
       " 1     [power, president, indonesia, of, joko, for, t...  \n",
       " 2     [indonesia, electric, in, cars, car, vehicle, ...  \n",
       " 3     [the, imam, founder, khomeini, foundation, of,...  "
      ]
     },
     "execution_count": 47,
     "metadata": {},
     "output_type": "execute_result"
    }
   ],
   "source": [
    "topic_model.get_topic_info().head(7).set_index('Topic')[\n",
    "   ['Count', 'Name', 'Representation']]"
   ]
  },
  {
   "cell_type": "code",
   "execution_count": 48,
   "metadata": {},
   "outputs": [
    {
     "ename": "ValueError",
     "evalue": "Mime type rendering requires nbformat>=4.2.0 but it is not installed",
     "output_type": "error",
     "traceback": [
      "\u001b[1;31m---------------------------------------------------------------------------\u001b[0m",
      "\u001b[1;31mValueError\u001b[0m                                Traceback (most recent call last)",
      "File \u001b[1;32me:\\VM\\miniconda3\\envs\\nlp\\lib\\site-packages\\IPython\\core\\formatters.py:922\u001b[0m, in \u001b[0;36mIPythonDisplayFormatter.__call__\u001b[1;34m(self, obj)\u001b[0m\n\u001b[0;32m    920\u001b[0m method \u001b[39m=\u001b[39m get_real_method(obj, \u001b[39mself\u001b[39m\u001b[39m.\u001b[39mprint_method)\n\u001b[0;32m    921\u001b[0m \u001b[39mif\u001b[39;00m method \u001b[39mis\u001b[39;00m \u001b[39mnot\u001b[39;00m \u001b[39mNone\u001b[39;00m:\n\u001b[1;32m--> 922\u001b[0m     method()\n\u001b[0;32m    923\u001b[0m     \u001b[39mreturn\u001b[39;00m \u001b[39mTrue\u001b[39;00m\n",
      "File \u001b[1;32me:\\VM\\miniconda3\\envs\\nlp\\lib\\site-packages\\plotly\\basedatatypes.py:832\u001b[0m, in \u001b[0;36mBaseFigure._ipython_display_\u001b[1;34m(self)\u001b[0m\n\u001b[0;32m    829\u001b[0m \u001b[39mimport\u001b[39;00m \u001b[39mplotly\u001b[39;00m\u001b[39m.\u001b[39;00m\u001b[39mio\u001b[39;00m \u001b[39mas\u001b[39;00m \u001b[39mpio\u001b[39;00m\n\u001b[0;32m    831\u001b[0m \u001b[39mif\u001b[39;00m pio\u001b[39m.\u001b[39mrenderers\u001b[39m.\u001b[39mrender_on_display \u001b[39mand\u001b[39;00m pio\u001b[39m.\u001b[39mrenderers\u001b[39m.\u001b[39mdefault:\n\u001b[1;32m--> 832\u001b[0m     pio\u001b[39m.\u001b[39;49mshow(\u001b[39mself\u001b[39;49m)\n\u001b[0;32m    833\u001b[0m \u001b[39melse\u001b[39;00m:\n\u001b[0;32m    834\u001b[0m     \u001b[39mprint\u001b[39m(\u001b[39mrepr\u001b[39m(\u001b[39mself\u001b[39m))\n",
      "File \u001b[1;32me:\\VM\\miniconda3\\envs\\nlp\\lib\\site-packages\\plotly\\io\\_renderers.py:394\u001b[0m, in \u001b[0;36mshow\u001b[1;34m(fig, renderer, validate, **kwargs)\u001b[0m\n\u001b[0;32m    389\u001b[0m         \u001b[39mraise\u001b[39;00m \u001b[39mValueError\u001b[39;00m(\n\u001b[0;32m    390\u001b[0m             \u001b[39m\"\u001b[39m\u001b[39mMime type rendering requires ipython but it is not installed\u001b[39m\u001b[39m\"\u001b[39m\n\u001b[0;32m    391\u001b[0m         )\n\u001b[0;32m    393\u001b[0m     \u001b[39mif\u001b[39;00m \u001b[39mnot\u001b[39;00m nbformat \u001b[39mor\u001b[39;00m Version(nbformat\u001b[39m.\u001b[39m__version__) \u001b[39m<\u001b[39m Version(\u001b[39m\"\u001b[39m\u001b[39m4.2.0\u001b[39m\u001b[39m\"\u001b[39m):\n\u001b[1;32m--> 394\u001b[0m         \u001b[39mraise\u001b[39;00m \u001b[39mValueError\u001b[39;00m(\n\u001b[0;32m    395\u001b[0m             \u001b[39m\"\u001b[39m\u001b[39mMime type rendering requires nbformat>=4.2.0 but it is not installed\u001b[39m\u001b[39m\"\u001b[39m\n\u001b[0;32m    396\u001b[0m         )\n\u001b[0;32m    398\u001b[0m     ipython_display\u001b[39m.\u001b[39mdisplay(bundle, raw\u001b[39m=\u001b[39m\u001b[39mTrue\u001b[39;00m)\n\u001b[0;32m    400\u001b[0m \u001b[39m# external renderers\u001b[39;00m\n",
      "\u001b[1;31mValueError\u001b[0m: Mime type rendering requires nbformat>=4.2.0 but it is not installed"
     ]
    },
    {
     "data": {
      "application/vnd.plotly.v1+json": {
       "config": {
        "plotlyServerURL": "https://plot.ly"
       },
       "data": [
        {
         "marker": {
          "color": "#D55E00"
         },
         "orientation": "h",
         "type": "bar",
         "x": [
          0.03687032638765517,
          0.039351101049000185,
          0.039838322758757885,
          0.04024118304789192,
          0.04461445115495399,
          0.044728858001259024,
          0.06598494043053425,
          0.08632119396554039,
          0.10784425826318429,
          0.1269491130455883
         ],
         "xaxis": "x",
         "y": [
          "is  ",
          "ri  ",
          "in  ",
          "of  ",
          "chinas  ",
          "to  ",
          "cars  ",
          "the  ",
          "car  ",
          "electric  "
         ],
         "yaxis": "y"
        },
        {
         "marker": {
          "color": "#0072B2"
         },
         "orientation": "h",
         "type": "bar",
         "x": [
          0.05198367277894517,
          0.05766894629320731,
          0.05808174437155498,
          0.06029555190500916,
          0.06032334809404467,
          0.0698068994850734,
          0.07387796822982196,
          0.09649421623897304,
          0.10561689276169275,
          0.10740368263495693
         ],
         "xaxis": "x2",
         "y": [
          "indonesiagoid  ",
          "widodo  ",
          "electricity  ",
          "to  ",
          "for  ",
          "joko  ",
          "of  ",
          "indonesia  ",
          "president  ",
          "power  "
         ],
         "yaxis": "y2"
        },
        {
         "marker": {
          "color": "#CC79A7"
         },
         "orientation": "h",
         "type": "bar",
         "x": [
          0.05821205545729791,
          0.06489841590109971,
          0.06546177894322679,
          0.07337367537117204,
          0.07936512991919048,
          0.09708261935274937,
          0.10052373464359723,
          0.14514928488578324,
          0.15237470054761162,
          0.17242178200949343
         ],
         "xaxis": "x3",
         "y": [
          "is  ",
          "the  ",
          "without  ",
          "indonesian  ",
          "vehicle  ",
          "car  ",
          "cars  ",
          "in  ",
          "electric  ",
          "indonesia  "
         ],
         "yaxis": "y3"
        },
        {
         "marker": {
          "color": "#E69F00"
         },
         "orientation": "h",
         "type": "bar",
         "x": [
          0.048608109611481196,
          0.048608109611481196,
          0.07345729662768685,
          0.07532206314659318,
          0.16328164879129478,
          0.1814299651727613,
          0.1814299651727613,
          0.18889019132833762,
          0.18889019132833762,
          0.22681334128700664
         ],
         "xaxis": "x4",
         "y": [
          "more  ",
          "ling  ",
          "electrical  ",
          "power  ",
          "of  ",
          "foundation  ",
          "khomeini  ",
          "founder  ",
          "imam  ",
          "the  "
         ],
         "yaxis": "y4"
        }
       ],
       "layout": {
        "annotations": [
         {
          "font": {
           "size": 16
          },
          "showarrow": false,
          "text": "Topic 0",
          "x": 0.0875,
          "xanchor": "center",
          "xref": "paper",
          "y": 1,
          "yanchor": "bottom",
          "yref": "paper"
         },
         {
          "font": {
           "size": 16
          },
          "showarrow": false,
          "text": "Topic 1",
          "x": 0.36250000000000004,
          "xanchor": "center",
          "xref": "paper",
          "y": 1,
          "yanchor": "bottom",
          "yref": "paper"
         },
         {
          "font": {
           "size": 16
          },
          "showarrow": false,
          "text": "Topic 2",
          "x": 0.6375000000000001,
          "xanchor": "center",
          "xref": "paper",
          "y": 1,
          "yanchor": "bottom",
          "yref": "paper"
         },
         {
          "font": {
           "size": 16
          },
          "showarrow": false,
          "text": "Topic 3",
          "x": 0.9125,
          "xanchor": "center",
          "xref": "paper",
          "y": 1,
          "yanchor": "bottom",
          "yref": "paper"
         }
        ],
        "height": 325,
        "hoverlabel": {
         "bgcolor": "white",
         "font": {
          "family": "Rockwell",
          "size": 16
         }
        },
        "showlegend": false,
        "template": {
         "data": {
          "bar": [
           {
            "error_x": {
             "color": "#2a3f5f"
            },
            "error_y": {
             "color": "#2a3f5f"
            },
            "marker": {
             "line": {
              "color": "white",
              "width": 0.5
             },
             "pattern": {
              "fillmode": "overlay",
              "size": 10,
              "solidity": 0.2
             }
            },
            "type": "bar"
           }
          ],
          "barpolar": [
           {
            "marker": {
             "line": {
              "color": "white",
              "width": 0.5
             },
             "pattern": {
              "fillmode": "overlay",
              "size": 10,
              "solidity": 0.2
             }
            },
            "type": "barpolar"
           }
          ],
          "carpet": [
           {
            "aaxis": {
             "endlinecolor": "#2a3f5f",
             "gridcolor": "#C8D4E3",
             "linecolor": "#C8D4E3",
             "minorgridcolor": "#C8D4E3",
             "startlinecolor": "#2a3f5f"
            },
            "baxis": {
             "endlinecolor": "#2a3f5f",
             "gridcolor": "#C8D4E3",
             "linecolor": "#C8D4E3",
             "minorgridcolor": "#C8D4E3",
             "startlinecolor": "#2a3f5f"
            },
            "type": "carpet"
           }
          ],
          "choropleth": [
           {
            "colorbar": {
             "outlinewidth": 0,
             "ticks": ""
            },
            "type": "choropleth"
           }
          ],
          "contour": [
           {
            "colorbar": {
             "outlinewidth": 0,
             "ticks": ""
            },
            "colorscale": [
             [
              0,
              "#0d0887"
             ],
             [
              0.1111111111111111,
              "#46039f"
             ],
             [
              0.2222222222222222,
              "#7201a8"
             ],
             [
              0.3333333333333333,
              "#9c179e"
             ],
             [
              0.4444444444444444,
              "#bd3786"
             ],
             [
              0.5555555555555556,
              "#d8576b"
             ],
             [
              0.6666666666666666,
              "#ed7953"
             ],
             [
              0.7777777777777778,
              "#fb9f3a"
             ],
             [
              0.8888888888888888,
              "#fdca26"
             ],
             [
              1,
              "#f0f921"
             ]
            ],
            "type": "contour"
           }
          ],
          "contourcarpet": [
           {
            "colorbar": {
             "outlinewidth": 0,
             "ticks": ""
            },
            "type": "contourcarpet"
           }
          ],
          "heatmap": [
           {
            "colorbar": {
             "outlinewidth": 0,
             "ticks": ""
            },
            "colorscale": [
             [
              0,
              "#0d0887"
             ],
             [
              0.1111111111111111,
              "#46039f"
             ],
             [
              0.2222222222222222,
              "#7201a8"
             ],
             [
              0.3333333333333333,
              "#9c179e"
             ],
             [
              0.4444444444444444,
              "#bd3786"
             ],
             [
              0.5555555555555556,
              "#d8576b"
             ],
             [
              0.6666666666666666,
              "#ed7953"
             ],
             [
              0.7777777777777778,
              "#fb9f3a"
             ],
             [
              0.8888888888888888,
              "#fdca26"
             ],
             [
              1,
              "#f0f921"
             ]
            ],
            "type": "heatmap"
           }
          ],
          "heatmapgl": [
           {
            "colorbar": {
             "outlinewidth": 0,
             "ticks": ""
            },
            "colorscale": [
             [
              0,
              "#0d0887"
             ],
             [
              0.1111111111111111,
              "#46039f"
             ],
             [
              0.2222222222222222,
              "#7201a8"
             ],
             [
              0.3333333333333333,
              "#9c179e"
             ],
             [
              0.4444444444444444,
              "#bd3786"
             ],
             [
              0.5555555555555556,
              "#d8576b"
             ],
             [
              0.6666666666666666,
              "#ed7953"
             ],
             [
              0.7777777777777778,
              "#fb9f3a"
             ],
             [
              0.8888888888888888,
              "#fdca26"
             ],
             [
              1,
              "#f0f921"
             ]
            ],
            "type": "heatmapgl"
           }
          ],
          "histogram": [
           {
            "marker": {
             "pattern": {
              "fillmode": "overlay",
              "size": 10,
              "solidity": 0.2
             }
            },
            "type": "histogram"
           }
          ],
          "histogram2d": [
           {
            "colorbar": {
             "outlinewidth": 0,
             "ticks": ""
            },
            "colorscale": [
             [
              0,
              "#0d0887"
             ],
             [
              0.1111111111111111,
              "#46039f"
             ],
             [
              0.2222222222222222,
              "#7201a8"
             ],
             [
              0.3333333333333333,
              "#9c179e"
             ],
             [
              0.4444444444444444,
              "#bd3786"
             ],
             [
              0.5555555555555556,
              "#d8576b"
             ],
             [
              0.6666666666666666,
              "#ed7953"
             ],
             [
              0.7777777777777778,
              "#fb9f3a"
             ],
             [
              0.8888888888888888,
              "#fdca26"
             ],
             [
              1,
              "#f0f921"
             ]
            ],
            "type": "histogram2d"
           }
          ],
          "histogram2dcontour": [
           {
            "colorbar": {
             "outlinewidth": 0,
             "ticks": ""
            },
            "colorscale": [
             [
              0,
              "#0d0887"
             ],
             [
              0.1111111111111111,
              "#46039f"
             ],
             [
              0.2222222222222222,
              "#7201a8"
             ],
             [
              0.3333333333333333,
              "#9c179e"
             ],
             [
              0.4444444444444444,
              "#bd3786"
             ],
             [
              0.5555555555555556,
              "#d8576b"
             ],
             [
              0.6666666666666666,
              "#ed7953"
             ],
             [
              0.7777777777777778,
              "#fb9f3a"
             ],
             [
              0.8888888888888888,
              "#fdca26"
             ],
             [
              1,
              "#f0f921"
             ]
            ],
            "type": "histogram2dcontour"
           }
          ],
          "mesh3d": [
           {
            "colorbar": {
             "outlinewidth": 0,
             "ticks": ""
            },
            "type": "mesh3d"
           }
          ],
          "parcoords": [
           {
            "line": {
             "colorbar": {
              "outlinewidth": 0,
              "ticks": ""
             }
            },
            "type": "parcoords"
           }
          ],
          "pie": [
           {
            "automargin": true,
            "type": "pie"
           }
          ],
          "scatter": [
           {
            "fillpattern": {
             "fillmode": "overlay",
             "size": 10,
             "solidity": 0.2
            },
            "type": "scatter"
           }
          ],
          "scatter3d": [
           {
            "line": {
             "colorbar": {
              "outlinewidth": 0,
              "ticks": ""
             }
            },
            "marker": {
             "colorbar": {
              "outlinewidth": 0,
              "ticks": ""
             }
            },
            "type": "scatter3d"
           }
          ],
          "scattercarpet": [
           {
            "marker": {
             "colorbar": {
              "outlinewidth": 0,
              "ticks": ""
             }
            },
            "type": "scattercarpet"
           }
          ],
          "scattergeo": [
           {
            "marker": {
             "colorbar": {
              "outlinewidth": 0,
              "ticks": ""
             }
            },
            "type": "scattergeo"
           }
          ],
          "scattergl": [
           {
            "marker": {
             "colorbar": {
              "outlinewidth": 0,
              "ticks": ""
             }
            },
            "type": "scattergl"
           }
          ],
          "scattermapbox": [
           {
            "marker": {
             "colorbar": {
              "outlinewidth": 0,
              "ticks": ""
             }
            },
            "type": "scattermapbox"
           }
          ],
          "scatterpolar": [
           {
            "marker": {
             "colorbar": {
              "outlinewidth": 0,
              "ticks": ""
             }
            },
            "type": "scatterpolar"
           }
          ],
          "scatterpolargl": [
           {
            "marker": {
             "colorbar": {
              "outlinewidth": 0,
              "ticks": ""
             }
            },
            "type": "scatterpolargl"
           }
          ],
          "scatterternary": [
           {
            "marker": {
             "colorbar": {
              "outlinewidth": 0,
              "ticks": ""
             }
            },
            "type": "scatterternary"
           }
          ],
          "surface": [
           {
            "colorbar": {
             "outlinewidth": 0,
             "ticks": ""
            },
            "colorscale": [
             [
              0,
              "#0d0887"
             ],
             [
              0.1111111111111111,
              "#46039f"
             ],
             [
              0.2222222222222222,
              "#7201a8"
             ],
             [
              0.3333333333333333,
              "#9c179e"
             ],
             [
              0.4444444444444444,
              "#bd3786"
             ],
             [
              0.5555555555555556,
              "#d8576b"
             ],
             [
              0.6666666666666666,
              "#ed7953"
             ],
             [
              0.7777777777777778,
              "#fb9f3a"
             ],
             [
              0.8888888888888888,
              "#fdca26"
             ],
             [
              1,
              "#f0f921"
             ]
            ],
            "type": "surface"
           }
          ],
          "table": [
           {
            "cells": {
             "fill": {
              "color": "#EBF0F8"
             },
             "line": {
              "color": "white"
             }
            },
            "header": {
             "fill": {
              "color": "#C8D4E3"
             },
             "line": {
              "color": "white"
             }
            },
            "type": "table"
           }
          ]
         },
         "layout": {
          "annotationdefaults": {
           "arrowcolor": "#2a3f5f",
           "arrowhead": 0,
           "arrowwidth": 1
          },
          "autotypenumbers": "strict",
          "coloraxis": {
           "colorbar": {
            "outlinewidth": 0,
            "ticks": ""
           }
          },
          "colorscale": {
           "diverging": [
            [
             0,
             "#8e0152"
            ],
            [
             0.1,
             "#c51b7d"
            ],
            [
             0.2,
             "#de77ae"
            ],
            [
             0.3,
             "#f1b6da"
            ],
            [
             0.4,
             "#fde0ef"
            ],
            [
             0.5,
             "#f7f7f7"
            ],
            [
             0.6,
             "#e6f5d0"
            ],
            [
             0.7,
             "#b8e186"
            ],
            [
             0.8,
             "#7fbc41"
            ],
            [
             0.9,
             "#4d9221"
            ],
            [
             1,
             "#276419"
            ]
           ],
           "sequential": [
            [
             0,
             "#0d0887"
            ],
            [
             0.1111111111111111,
             "#46039f"
            ],
            [
             0.2222222222222222,
             "#7201a8"
            ],
            [
             0.3333333333333333,
             "#9c179e"
            ],
            [
             0.4444444444444444,
             "#bd3786"
            ],
            [
             0.5555555555555556,
             "#d8576b"
            ],
            [
             0.6666666666666666,
             "#ed7953"
            ],
            [
             0.7777777777777778,
             "#fb9f3a"
            ],
            [
             0.8888888888888888,
             "#fdca26"
            ],
            [
             1,
             "#f0f921"
            ]
           ],
           "sequentialminus": [
            [
             0,
             "#0d0887"
            ],
            [
             0.1111111111111111,
             "#46039f"
            ],
            [
             0.2222222222222222,
             "#7201a8"
            ],
            [
             0.3333333333333333,
             "#9c179e"
            ],
            [
             0.4444444444444444,
             "#bd3786"
            ],
            [
             0.5555555555555556,
             "#d8576b"
            ],
            [
             0.6666666666666666,
             "#ed7953"
            ],
            [
             0.7777777777777778,
             "#fb9f3a"
            ],
            [
             0.8888888888888888,
             "#fdca26"
            ],
            [
             1,
             "#f0f921"
            ]
           ]
          },
          "colorway": [
           "#636efa",
           "#EF553B",
           "#00cc96",
           "#ab63fa",
           "#FFA15A",
           "#19d3f3",
           "#FF6692",
           "#B6E880",
           "#FF97FF",
           "#FECB52"
          ],
          "font": {
           "color": "#2a3f5f"
          },
          "geo": {
           "bgcolor": "white",
           "lakecolor": "white",
           "landcolor": "white",
           "showlakes": true,
           "showland": true,
           "subunitcolor": "#C8D4E3"
          },
          "hoverlabel": {
           "align": "left"
          },
          "hovermode": "closest",
          "mapbox": {
           "style": "light"
          },
          "paper_bgcolor": "white",
          "plot_bgcolor": "white",
          "polar": {
           "angularaxis": {
            "gridcolor": "#EBF0F8",
            "linecolor": "#EBF0F8",
            "ticks": ""
           },
           "bgcolor": "white",
           "radialaxis": {
            "gridcolor": "#EBF0F8",
            "linecolor": "#EBF0F8",
            "ticks": ""
           }
          },
          "scene": {
           "xaxis": {
            "backgroundcolor": "white",
            "gridcolor": "#DFE8F3",
            "gridwidth": 2,
            "linecolor": "#EBF0F8",
            "showbackground": true,
            "ticks": "",
            "zerolinecolor": "#EBF0F8"
           },
           "yaxis": {
            "backgroundcolor": "white",
            "gridcolor": "#DFE8F3",
            "gridwidth": 2,
            "linecolor": "#EBF0F8",
            "showbackground": true,
            "ticks": "",
            "zerolinecolor": "#EBF0F8"
           },
           "zaxis": {
            "backgroundcolor": "white",
            "gridcolor": "#DFE8F3",
            "gridwidth": 2,
            "linecolor": "#EBF0F8",
            "showbackground": true,
            "ticks": "",
            "zerolinecolor": "#EBF0F8"
           }
          },
          "shapedefaults": {
           "line": {
            "color": "#2a3f5f"
           }
          },
          "ternary": {
           "aaxis": {
            "gridcolor": "#DFE8F3",
            "linecolor": "#A2B1C6",
            "ticks": ""
           },
           "baxis": {
            "gridcolor": "#DFE8F3",
            "linecolor": "#A2B1C6",
            "ticks": ""
           },
           "bgcolor": "white",
           "caxis": {
            "gridcolor": "#DFE8F3",
            "linecolor": "#A2B1C6",
            "ticks": ""
           }
          },
          "title": {
           "x": 0.05
          },
          "xaxis": {
           "automargin": true,
           "gridcolor": "#EBF0F8",
           "linecolor": "#EBF0F8",
           "ticks": "",
           "title": {
            "standoff": 15
           },
           "zerolinecolor": "#EBF0F8",
           "zerolinewidth": 2
          },
          "yaxis": {
           "automargin": true,
           "gridcolor": "#EBF0F8",
           "linecolor": "#EBF0F8",
           "ticks": "",
           "title": {
            "standoff": 15
           },
           "zerolinecolor": "#EBF0F8",
           "zerolinewidth": 2
          }
         }
        },
        "title": {
         "font": {
          "color": "Black",
          "size": 22
         },
         "text": "Topic Word Scores",
         "x": 0.5,
         "xanchor": "center",
         "yanchor": "top"
        },
        "width": 1000,
        "xaxis": {
         "anchor": "y",
         "domain": [
          0,
          0.175
         ],
         "showgrid": true
        },
        "xaxis2": {
         "anchor": "y2",
         "domain": [
          0.275,
          0.45
         ],
         "showgrid": true
        },
        "xaxis3": {
         "anchor": "y3",
         "domain": [
          0.55,
          0.7250000000000001
         ],
         "showgrid": true
        },
        "xaxis4": {
         "anchor": "y4",
         "domain": [
          0.825,
          1
         ],
         "showgrid": true
        },
        "yaxis": {
         "anchor": "x",
         "domain": [
          0,
          1
         ],
         "showgrid": true
        },
        "yaxis2": {
         "anchor": "x2",
         "domain": [
          0,
          1
         ],
         "showgrid": true
        },
        "yaxis3": {
         "anchor": "x3",
         "domain": [
          0,
          1
         ],
         "showgrid": true
        },
        "yaxis4": {
         "anchor": "x4",
         "domain": [
          0,
          1
         ],
         "showgrid": true
        }
       }
      },
      "text/html": [
       "<div>                        <script type=\"text/javascript\">window.PlotlyConfig = {MathJaxConfig: 'local'};</script>\n",
       "        <script charset=\"utf-8\" src=\"https://cdn.plot.ly/plotly-2.27.0.min.js\"></script>                <div id=\"c778cb28-9c9d-4373-829a-e45e27e6c954\" class=\"plotly-graph-div\" style=\"height:325.0px; width:1000px;\"></div>            <script type=\"text/javascript\">                                    window.PLOTLYENV=window.PLOTLYENV || {};                                    if (document.getElementById(\"c778cb28-9c9d-4373-829a-e45e27e6c954\")) {                    Plotly.newPlot(                        \"c778cb28-9c9d-4373-829a-e45e27e6c954\",                        [{\"marker\":{\"color\":\"#D55E00\"},\"orientation\":\"h\",\"x\":[0.03687032638765517,0.039351101049000185,0.039838322758757885,0.04024118304789192,0.04461445115495399,0.044728858001259024,0.06598494043053425,0.08632119396554039,0.10784425826318429,0.1269491130455883],\"y\":[\"is  \",\"ri  \",\"in  \",\"of  \",\"chinas  \",\"to  \",\"cars  \",\"the  \",\"car  \",\"electric  \"],\"type\":\"bar\",\"xaxis\":\"x\",\"yaxis\":\"y\"},{\"marker\":{\"color\":\"#0072B2\"},\"orientation\":\"h\",\"x\":[0.05198367277894517,0.05766894629320731,0.05808174437155498,0.06029555190500916,0.06032334809404467,0.0698068994850734,0.07387796822982196,0.09649421623897304,0.10561689276169275,0.10740368263495693],\"y\":[\"indonesiagoid  \",\"widodo  \",\"electricity  \",\"to  \",\"for  \",\"joko  \",\"of  \",\"indonesia  \",\"president  \",\"power  \"],\"type\":\"bar\",\"xaxis\":\"x2\",\"yaxis\":\"y2\"},{\"marker\":{\"color\":\"#CC79A7\"},\"orientation\":\"h\",\"x\":[0.05821205545729791,0.06489841590109971,0.06546177894322679,0.07337367537117204,0.07936512991919048,0.09708261935274937,0.10052373464359723,0.14514928488578324,0.15237470054761162,0.17242178200949343],\"y\":[\"is  \",\"the  \",\"without  \",\"indonesian  \",\"vehicle  \",\"car  \",\"cars  \",\"in  \",\"electric  \",\"indonesia  \"],\"type\":\"bar\",\"xaxis\":\"x3\",\"yaxis\":\"y3\"},{\"marker\":{\"color\":\"#E69F00\"},\"orientation\":\"h\",\"x\":[0.048608109611481196,0.048608109611481196,0.07345729662768685,0.07532206314659318,0.16328164879129478,0.1814299651727613,0.1814299651727613,0.18889019132833762,0.18889019132833762,0.22681334128700664],\"y\":[\"more  \",\"ling  \",\"electrical  \",\"power  \",\"of  \",\"foundation  \",\"khomeini  \",\"founder  \",\"imam  \",\"the  \"],\"type\":\"bar\",\"xaxis\":\"x4\",\"yaxis\":\"y4\"}],                        {\"template\":{\"data\":{\"barpolar\":[{\"marker\":{\"line\":{\"color\":\"white\",\"width\":0.5},\"pattern\":{\"fillmode\":\"overlay\",\"size\":10,\"solidity\":0.2}},\"type\":\"barpolar\"}],\"bar\":[{\"error_x\":{\"color\":\"#2a3f5f\"},\"error_y\":{\"color\":\"#2a3f5f\"},\"marker\":{\"line\":{\"color\":\"white\",\"width\":0.5},\"pattern\":{\"fillmode\":\"overlay\",\"size\":10,\"solidity\":0.2}},\"type\":\"bar\"}],\"carpet\":[{\"aaxis\":{\"endlinecolor\":\"#2a3f5f\",\"gridcolor\":\"#C8D4E3\",\"linecolor\":\"#C8D4E3\",\"minorgridcolor\":\"#C8D4E3\",\"startlinecolor\":\"#2a3f5f\"},\"baxis\":{\"endlinecolor\":\"#2a3f5f\",\"gridcolor\":\"#C8D4E3\",\"linecolor\":\"#C8D4E3\",\"minorgridcolor\":\"#C8D4E3\",\"startlinecolor\":\"#2a3f5f\"},\"type\":\"carpet\"}],\"choropleth\":[{\"colorbar\":{\"outlinewidth\":0,\"ticks\":\"\"},\"type\":\"choropleth\"}],\"contourcarpet\":[{\"colorbar\":{\"outlinewidth\":0,\"ticks\":\"\"},\"type\":\"contourcarpet\"}],\"contour\":[{\"colorbar\":{\"outlinewidth\":0,\"ticks\":\"\"},\"colorscale\":[[0.0,\"#0d0887\"],[0.1111111111111111,\"#46039f\"],[0.2222222222222222,\"#7201a8\"],[0.3333333333333333,\"#9c179e\"],[0.4444444444444444,\"#bd3786\"],[0.5555555555555556,\"#d8576b\"],[0.6666666666666666,\"#ed7953\"],[0.7777777777777778,\"#fb9f3a\"],[0.8888888888888888,\"#fdca26\"],[1.0,\"#f0f921\"]],\"type\":\"contour\"}],\"heatmapgl\":[{\"colorbar\":{\"outlinewidth\":0,\"ticks\":\"\"},\"colorscale\":[[0.0,\"#0d0887\"],[0.1111111111111111,\"#46039f\"],[0.2222222222222222,\"#7201a8\"],[0.3333333333333333,\"#9c179e\"],[0.4444444444444444,\"#bd3786\"],[0.5555555555555556,\"#d8576b\"],[0.6666666666666666,\"#ed7953\"],[0.7777777777777778,\"#fb9f3a\"],[0.8888888888888888,\"#fdca26\"],[1.0,\"#f0f921\"]],\"type\":\"heatmapgl\"}],\"heatmap\":[{\"colorbar\":{\"outlinewidth\":0,\"ticks\":\"\"},\"colorscale\":[[0.0,\"#0d0887\"],[0.1111111111111111,\"#46039f\"],[0.2222222222222222,\"#7201a8\"],[0.3333333333333333,\"#9c179e\"],[0.4444444444444444,\"#bd3786\"],[0.5555555555555556,\"#d8576b\"],[0.6666666666666666,\"#ed7953\"],[0.7777777777777778,\"#fb9f3a\"],[0.8888888888888888,\"#fdca26\"],[1.0,\"#f0f921\"]],\"type\":\"heatmap\"}],\"histogram2dcontour\":[{\"colorbar\":{\"outlinewidth\":0,\"ticks\":\"\"},\"colorscale\":[[0.0,\"#0d0887\"],[0.1111111111111111,\"#46039f\"],[0.2222222222222222,\"#7201a8\"],[0.3333333333333333,\"#9c179e\"],[0.4444444444444444,\"#bd3786\"],[0.5555555555555556,\"#d8576b\"],[0.6666666666666666,\"#ed7953\"],[0.7777777777777778,\"#fb9f3a\"],[0.8888888888888888,\"#fdca26\"],[1.0,\"#f0f921\"]],\"type\":\"histogram2dcontour\"}],\"histogram2d\":[{\"colorbar\":{\"outlinewidth\":0,\"ticks\":\"\"},\"colorscale\":[[0.0,\"#0d0887\"],[0.1111111111111111,\"#46039f\"],[0.2222222222222222,\"#7201a8\"],[0.3333333333333333,\"#9c179e\"],[0.4444444444444444,\"#bd3786\"],[0.5555555555555556,\"#d8576b\"],[0.6666666666666666,\"#ed7953\"],[0.7777777777777778,\"#fb9f3a\"],[0.8888888888888888,\"#fdca26\"],[1.0,\"#f0f921\"]],\"type\":\"histogram2d\"}],\"histogram\":[{\"marker\":{\"pattern\":{\"fillmode\":\"overlay\",\"size\":10,\"solidity\":0.2}},\"type\":\"histogram\"}],\"mesh3d\":[{\"colorbar\":{\"outlinewidth\":0,\"ticks\":\"\"},\"type\":\"mesh3d\"}],\"parcoords\":[{\"line\":{\"colorbar\":{\"outlinewidth\":0,\"ticks\":\"\"}},\"type\":\"parcoords\"}],\"pie\":[{\"automargin\":true,\"type\":\"pie\"}],\"scatter3d\":[{\"line\":{\"colorbar\":{\"outlinewidth\":0,\"ticks\":\"\"}},\"marker\":{\"colorbar\":{\"outlinewidth\":0,\"ticks\":\"\"}},\"type\":\"scatter3d\"}],\"scattercarpet\":[{\"marker\":{\"colorbar\":{\"outlinewidth\":0,\"ticks\":\"\"}},\"type\":\"scattercarpet\"}],\"scattergeo\":[{\"marker\":{\"colorbar\":{\"outlinewidth\":0,\"ticks\":\"\"}},\"type\":\"scattergeo\"}],\"scattergl\":[{\"marker\":{\"colorbar\":{\"outlinewidth\":0,\"ticks\":\"\"}},\"type\":\"scattergl\"}],\"scattermapbox\":[{\"marker\":{\"colorbar\":{\"outlinewidth\":0,\"ticks\":\"\"}},\"type\":\"scattermapbox\"}],\"scatterpolargl\":[{\"marker\":{\"colorbar\":{\"outlinewidth\":0,\"ticks\":\"\"}},\"type\":\"scatterpolargl\"}],\"scatterpolar\":[{\"marker\":{\"colorbar\":{\"outlinewidth\":0,\"ticks\":\"\"}},\"type\":\"scatterpolar\"}],\"scatter\":[{\"fillpattern\":{\"fillmode\":\"overlay\",\"size\":10,\"solidity\":0.2},\"type\":\"scatter\"}],\"scatterternary\":[{\"marker\":{\"colorbar\":{\"outlinewidth\":0,\"ticks\":\"\"}},\"type\":\"scatterternary\"}],\"surface\":[{\"colorbar\":{\"outlinewidth\":0,\"ticks\":\"\"},\"colorscale\":[[0.0,\"#0d0887\"],[0.1111111111111111,\"#46039f\"],[0.2222222222222222,\"#7201a8\"],[0.3333333333333333,\"#9c179e\"],[0.4444444444444444,\"#bd3786\"],[0.5555555555555556,\"#d8576b\"],[0.6666666666666666,\"#ed7953\"],[0.7777777777777778,\"#fb9f3a\"],[0.8888888888888888,\"#fdca26\"],[1.0,\"#f0f921\"]],\"type\":\"surface\"}],\"table\":[{\"cells\":{\"fill\":{\"color\":\"#EBF0F8\"},\"line\":{\"color\":\"white\"}},\"header\":{\"fill\":{\"color\":\"#C8D4E3\"},\"line\":{\"color\":\"white\"}},\"type\":\"table\"}]},\"layout\":{\"annotationdefaults\":{\"arrowcolor\":\"#2a3f5f\",\"arrowhead\":0,\"arrowwidth\":1},\"autotypenumbers\":\"strict\",\"coloraxis\":{\"colorbar\":{\"outlinewidth\":0,\"ticks\":\"\"}},\"colorscale\":{\"diverging\":[[0,\"#8e0152\"],[0.1,\"#c51b7d\"],[0.2,\"#de77ae\"],[0.3,\"#f1b6da\"],[0.4,\"#fde0ef\"],[0.5,\"#f7f7f7\"],[0.6,\"#e6f5d0\"],[0.7,\"#b8e186\"],[0.8,\"#7fbc41\"],[0.9,\"#4d9221\"],[1,\"#276419\"]],\"sequential\":[[0.0,\"#0d0887\"],[0.1111111111111111,\"#46039f\"],[0.2222222222222222,\"#7201a8\"],[0.3333333333333333,\"#9c179e\"],[0.4444444444444444,\"#bd3786\"],[0.5555555555555556,\"#d8576b\"],[0.6666666666666666,\"#ed7953\"],[0.7777777777777778,\"#fb9f3a\"],[0.8888888888888888,\"#fdca26\"],[1.0,\"#f0f921\"]],\"sequentialminus\":[[0.0,\"#0d0887\"],[0.1111111111111111,\"#46039f\"],[0.2222222222222222,\"#7201a8\"],[0.3333333333333333,\"#9c179e\"],[0.4444444444444444,\"#bd3786\"],[0.5555555555555556,\"#d8576b\"],[0.6666666666666666,\"#ed7953\"],[0.7777777777777778,\"#fb9f3a\"],[0.8888888888888888,\"#fdca26\"],[1.0,\"#f0f921\"]]},\"colorway\":[\"#636efa\",\"#EF553B\",\"#00cc96\",\"#ab63fa\",\"#FFA15A\",\"#19d3f3\",\"#FF6692\",\"#B6E880\",\"#FF97FF\",\"#FECB52\"],\"font\":{\"color\":\"#2a3f5f\"},\"geo\":{\"bgcolor\":\"white\",\"lakecolor\":\"white\",\"landcolor\":\"white\",\"showlakes\":true,\"showland\":true,\"subunitcolor\":\"#C8D4E3\"},\"hoverlabel\":{\"align\":\"left\"},\"hovermode\":\"closest\",\"mapbox\":{\"style\":\"light\"},\"paper_bgcolor\":\"white\",\"plot_bgcolor\":\"white\",\"polar\":{\"angularaxis\":{\"gridcolor\":\"#EBF0F8\",\"linecolor\":\"#EBF0F8\",\"ticks\":\"\"},\"bgcolor\":\"white\",\"radialaxis\":{\"gridcolor\":\"#EBF0F8\",\"linecolor\":\"#EBF0F8\",\"ticks\":\"\"}},\"scene\":{\"xaxis\":{\"backgroundcolor\":\"white\",\"gridcolor\":\"#DFE8F3\",\"gridwidth\":2,\"linecolor\":\"#EBF0F8\",\"showbackground\":true,\"ticks\":\"\",\"zerolinecolor\":\"#EBF0F8\"},\"yaxis\":{\"backgroundcolor\":\"white\",\"gridcolor\":\"#DFE8F3\",\"gridwidth\":2,\"linecolor\":\"#EBF0F8\",\"showbackground\":true,\"ticks\":\"\",\"zerolinecolor\":\"#EBF0F8\"},\"zaxis\":{\"backgroundcolor\":\"white\",\"gridcolor\":\"#DFE8F3\",\"gridwidth\":2,\"linecolor\":\"#EBF0F8\",\"showbackground\":true,\"ticks\":\"\",\"zerolinecolor\":\"#EBF0F8\"}},\"shapedefaults\":{\"line\":{\"color\":\"#2a3f5f\"}},\"ternary\":{\"aaxis\":{\"gridcolor\":\"#DFE8F3\",\"linecolor\":\"#A2B1C6\",\"ticks\":\"\"},\"baxis\":{\"gridcolor\":\"#DFE8F3\",\"linecolor\":\"#A2B1C6\",\"ticks\":\"\"},\"bgcolor\":\"white\",\"caxis\":{\"gridcolor\":\"#DFE8F3\",\"linecolor\":\"#A2B1C6\",\"ticks\":\"\"}},\"title\":{\"x\":0.05},\"xaxis\":{\"automargin\":true,\"gridcolor\":\"#EBF0F8\",\"linecolor\":\"#EBF0F8\",\"ticks\":\"\",\"title\":{\"standoff\":15},\"zerolinecolor\":\"#EBF0F8\",\"zerolinewidth\":2},\"yaxis\":{\"automargin\":true,\"gridcolor\":\"#EBF0F8\",\"linecolor\":\"#EBF0F8\",\"ticks\":\"\",\"title\":{\"standoff\":15},\"zerolinecolor\":\"#EBF0F8\",\"zerolinewidth\":2}}},\"xaxis\":{\"anchor\":\"y\",\"domain\":[0.0,0.175],\"showgrid\":true},\"yaxis\":{\"anchor\":\"x\",\"domain\":[0.0,1.0],\"showgrid\":true},\"xaxis2\":{\"anchor\":\"y2\",\"domain\":[0.275,0.45],\"showgrid\":true},\"yaxis2\":{\"anchor\":\"x2\",\"domain\":[0.0,1.0],\"showgrid\":true},\"xaxis3\":{\"anchor\":\"y3\",\"domain\":[0.55,0.7250000000000001],\"showgrid\":true},\"yaxis3\":{\"anchor\":\"x3\",\"domain\":[0.0,1.0],\"showgrid\":true},\"xaxis4\":{\"anchor\":\"y4\",\"domain\":[0.825,1.0],\"showgrid\":true},\"yaxis4\":{\"anchor\":\"x4\",\"domain\":[0.0,1.0],\"showgrid\":true},\"annotations\":[{\"font\":{\"size\":16},\"showarrow\":false,\"text\":\"Topic 0\",\"x\":0.0875,\"xanchor\":\"center\",\"xref\":\"paper\",\"y\":1.0,\"yanchor\":\"bottom\",\"yref\":\"paper\"},{\"font\":{\"size\":16},\"showarrow\":false,\"text\":\"Topic 1\",\"x\":0.36250000000000004,\"xanchor\":\"center\",\"xref\":\"paper\",\"y\":1.0,\"yanchor\":\"bottom\",\"yref\":\"paper\"},{\"font\":{\"size\":16},\"showarrow\":false,\"text\":\"Topic 2\",\"x\":0.6375000000000001,\"xanchor\":\"center\",\"xref\":\"paper\",\"y\":1.0,\"yanchor\":\"bottom\",\"yref\":\"paper\"},{\"font\":{\"size\":16},\"showarrow\":false,\"text\":\"Topic 3\",\"x\":0.9125,\"xanchor\":\"center\",\"xref\":\"paper\",\"y\":1.0,\"yanchor\":\"bottom\",\"yref\":\"paper\"}],\"title\":{\"font\":{\"size\":22,\"color\":\"Black\"},\"text\":\"Topic Word Scores\",\"x\":0.5,\"xanchor\":\"center\",\"yanchor\":\"top\"},\"hoverlabel\":{\"font\":{\"size\":16,\"family\":\"Rockwell\"},\"bgcolor\":\"white\"},\"showlegend\":false,\"width\":1000,\"height\":325.0},                        {\"responsive\": true}                    )                };                            </script>        </div>"
      ],
      "text/plain": [
       "Figure({\n",
       "    'data': [{'marker': {'color': '#D55E00'},\n",
       "              'orientation': 'h',\n",
       "              'type': 'bar',\n",
       "              'x': [0.03687032638765517, 0.039351101049000185,\n",
       "                    0.039838322758757885, 0.04024118304789192, 0.04461445115495399,\n",
       "                    0.044728858001259024, 0.06598494043053425, 0.08632119396554039,\n",
       "                    0.10784425826318429, 0.1269491130455883],\n",
       "              'xaxis': 'x',\n",
       "              'y': [is  , ri  , in  , of  , chinas  , to  , cars  , the  , car  ,\n",
       "                    electric  ],\n",
       "              'yaxis': 'y'},\n",
       "             {'marker': {'color': '#0072B2'},\n",
       "              'orientation': 'h',\n",
       "              'type': 'bar',\n",
       "              'x': [0.05198367277894517, 0.05766894629320731, 0.05808174437155498,\n",
       "                    0.06029555190500916, 0.06032334809404467, 0.0698068994850734,\n",
       "                    0.07387796822982196, 0.09649421623897304, 0.10561689276169275,\n",
       "                    0.10740368263495693],\n",
       "              'xaxis': 'x2',\n",
       "              'y': [indonesiagoid  , widodo  , electricity  , to  , for  , joko  ,\n",
       "                    of  , indonesia  , president  , power  ],\n",
       "              'yaxis': 'y2'},\n",
       "             {'marker': {'color': '#CC79A7'},\n",
       "              'orientation': 'h',\n",
       "              'type': 'bar',\n",
       "              'x': [0.05821205545729791, 0.06489841590109971, 0.06546177894322679,\n",
       "                    0.07337367537117204, 0.07936512991919048, 0.09708261935274937,\n",
       "                    0.10052373464359723, 0.14514928488578324, 0.15237470054761162,\n",
       "                    0.17242178200949343],\n",
       "              'xaxis': 'x3',\n",
       "              'y': [is  , the  , without  , indonesian  , vehicle  , car  , cars\n",
       "                    , in  , electric  , indonesia  ],\n",
       "              'yaxis': 'y3'},\n",
       "             {'marker': {'color': '#E69F00'},\n",
       "              'orientation': 'h',\n",
       "              'type': 'bar',\n",
       "              'x': [0.048608109611481196, 0.048608109611481196,\n",
       "                    0.07345729662768685, 0.07532206314659318, 0.16328164879129478,\n",
       "                    0.1814299651727613, 0.1814299651727613, 0.18889019132833762,\n",
       "                    0.18889019132833762, 0.22681334128700664],\n",
       "              'xaxis': 'x4',\n",
       "              'y': [more  , ling  , electrical  , power  , of  , foundation  ,\n",
       "                    khomeini  , founder  , imam  , the  ],\n",
       "              'yaxis': 'y4'}],\n",
       "    'layout': {'annotations': [{'font': {'size': 16},\n",
       "                                'showarrow': False,\n",
       "                                'text': 'Topic 0',\n",
       "                                'x': 0.0875,\n",
       "                                'xanchor': 'center',\n",
       "                                'xref': 'paper',\n",
       "                                'y': 1.0,\n",
       "                                'yanchor': 'bottom',\n",
       "                                'yref': 'paper'},\n",
       "                               {'font': {'size': 16},\n",
       "                                'showarrow': False,\n",
       "                                'text': 'Topic 1',\n",
       "                                'x': 0.36250000000000004,\n",
       "                                'xanchor': 'center',\n",
       "                                'xref': 'paper',\n",
       "                                'y': 1.0,\n",
       "                                'yanchor': 'bottom',\n",
       "                                'yref': 'paper'},\n",
       "                               {'font': {'size': 16},\n",
       "                                'showarrow': False,\n",
       "                                'text': 'Topic 2',\n",
       "                                'x': 0.6375000000000001,\n",
       "                                'xanchor': 'center',\n",
       "                                'xref': 'paper',\n",
       "                                'y': 1.0,\n",
       "                                'yanchor': 'bottom',\n",
       "                                'yref': 'paper'},\n",
       "                               {'font': {'size': 16},\n",
       "                                'showarrow': False,\n",
       "                                'text': 'Topic 3',\n",
       "                                'x': 0.9125,\n",
       "                                'xanchor': 'center',\n",
       "                                'xref': 'paper',\n",
       "                                'y': 1.0,\n",
       "                                'yanchor': 'bottom',\n",
       "                                'yref': 'paper'}],\n",
       "               'height': 325.0,\n",
       "               'hoverlabel': {'bgcolor': 'white', 'font': {'family': 'Rockwell', 'size': 16}},\n",
       "               'showlegend': False,\n",
       "               'template': '...',\n",
       "               'title': {'font': {'color': 'Black', 'size': 22},\n",
       "                         'text': 'Topic Word Scores',\n",
       "                         'x': 0.5,\n",
       "                         'xanchor': 'center',\n",
       "                         'yanchor': 'top'},\n",
       "               'width': 1000,\n",
       "               'xaxis': {'anchor': 'y', 'domain': [0.0, 0.175], 'showgrid': True},\n",
       "               'xaxis2': {'anchor': 'y2', 'domain': [0.275, 0.45], 'showgrid': True},\n",
       "               'xaxis3': {'anchor': 'y3', 'domain': [0.55, 0.7250000000000001], 'showgrid': True},\n",
       "               'xaxis4': {'anchor': 'y4', 'domain': [0.825, 1.0], 'showgrid': True},\n",
       "               'yaxis': {'anchor': 'x', 'domain': [0.0, 1.0], 'showgrid': True},\n",
       "               'yaxis2': {'anchor': 'x2', 'domain': [0.0, 1.0], 'showgrid': True},\n",
       "               'yaxis3': {'anchor': 'x3', 'domain': [0.0, 1.0], 'showgrid': True},\n",
       "               'yaxis4': {'anchor': 'x4', 'domain': [0.0, 1.0], 'showgrid': True}}\n",
       "})"
      ]
     },
     "execution_count": 48,
     "metadata": {},
     "output_type": "execute_result"
    }
   ],
   "source": [
    "topic_model.visualize_barchart(top_n_topics = 16, n_words = 10)"
   ]
  },
  {
   "cell_type": "code",
   "execution_count": null,
   "metadata": {},
   "outputs": [],
   "source": []
  }
 ],
 "metadata": {
  "kernelspec": {
   "display_name": "Python 3",
   "language": "python",
   "name": "python3"
  },
  "language_info": {
   "codemirror_mode": {
    "name": "ipython",
    "version": 3
   },
   "file_extension": ".py",
   "mimetype": "text/x-python",
   "name": "python",
   "nbconvert_exporter": "python",
   "pygments_lexer": "ipython3",
   "version": "3.9.18"
  }
 },
 "nbformat": 4,
 "nbformat_minor": 2
}
